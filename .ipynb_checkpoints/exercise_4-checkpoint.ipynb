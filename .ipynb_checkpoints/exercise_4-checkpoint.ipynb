{
 "cells": [
  {
   "cell_type": "markdown",
   "metadata": {},
   "source": [
    "# Exercise 4\n",
    "\n",
    "Work on this before the next lecture on 26 April. We will talk about questions, comments, and solutions during the exercise after the third lecture.\n",
    "\n",
    "Please do form study groups! When you do, make sure you can explain everything in your own words, do not simply copy&paste from others.\n",
    "\n",
    "The solutions to a lot of these problems can probably be found with Google. Please don't. You will not learn a lot by copy&pasting from the internet.\n",
    "\n",
    "If you want to get credit/examination on this course please upload your work to your GitHub repository for this course before the next lecture starts and post a link to your repository in [this thread](https://github.com/wildtreetech/advanced-computing-2018/issues/8). If you worked on things together with others please add their names to the notebook so we can see who formed groups.\n",
    "\n",
    "The overall idea of this exercise is to get you using and building convolutional neural networks."
   ]
  },
  {
   "cell_type": "markdown",
   "metadata": {},
   "source": [
    "## Question 1\n",
    "\n",
    "In the last exercise you built a neural network that can classify fashion items using only densely connected layers.\n",
    "\n",
    "Build on this by using convolutions, pooling, dropout, batch norm, etc in your neural network. Can you outperform your densely connected network?\n",
    "\n",
    "Start with a small network and a fraction of the data to check if you hooked everything up correctly. Don't go overboard with the size of the network either as even small networks take quite a while to train.\n",
    "\n",
    "(If you want to experiment with a free GPU checkout https://kaggle.com/kernels .)"
   ]
  },
  {
   "cell_type": "code",
   "execution_count": 408,
   "metadata": {
    "collapsed": true
   },
   "outputs": [],
   "source": [
    "# plotting imports and setup\n",
    "%matplotlib inline\n",
    "import matplotlib.pyplot as plt\n",
    "import numpy as np"
   ]
  },
  {
   "cell_type": "code",
   "execution_count": 409,
   "metadata": {},
   "outputs": [],
   "source": [
    "# Fashion MNIST is built into keras\n",
    "from keras.datasets import fashion_mnist\n",
    "from sklearn.model_selection import train_test_split\n",
    "(X_train, y_train), (X_test, y_test) = fashion_mnist.load_data()\n",
    "X_train = X_train.astype('float32')\n",
    "X_test = X_test.astype('float32')\n",
    "X_train /= 255\n",
    "X_test /= 255\n",
    "\n",
    "X_train = X_train.reshape(60000,28,28,1)\n",
    "X_test = X_test.reshape(10000,28,28,1)\n",
    "\n",
    "X_train, X_val, y_train, y_val = train_test_split(X_train, y_train,\n",
    "                                                  test_size=10000,\n",
    "                                                  random_state=42)\n",
    "\n",
    "from keras import utils\n",
    "#one hot encoding for y\n",
    "num_classes = 10\n",
    "y_train = utils.to_categorical(y_train, num_classes)\n",
    "y_val = utils.to_categorical(y_val, num_classes)\n",
    "y_test = utils.to_categorical(y_test, num_classes)"
   ]
  },
  {
   "cell_type": "code",
   "execution_count": 410,
   "metadata": {},
   "outputs": [
    {
     "name": "stdout",
     "output_type": "stream",
     "text": [
      "(500, 28, 28, 1) (500, 10)\n"
     ]
    }
   ],
   "source": [
    "#small sets to test if the NN is set up correctly\n",
    "X_trial=X_train[0:500,:,:,:].reshape([500,28,28,1])\n",
    "y_trial=y_train[0:500,:]\n",
    "print X_trial.shape, y_trial.shape"
   ]
  },
  {
   "cell_type": "code",
   "execution_count": 411,
   "metadata": {},
   "outputs": [
    {
     "data": {
      "text/plain": [
       "<keras.callbacks.History at 0x1692b8d10>"
      ]
     },
     "execution_count": 411,
     "metadata": {},
     "output_type": "execute_result"
    }
   ],
   "source": [
    "from keras.layers import BatchNormalization,GaussianDropout,Dropout, Input, Dense, Activation, Conv2D, MaxPool2D, AveragePooling2D, Flatten\n",
    "from keras.models import Model\n",
    "\n",
    "np.random.seed(123+3)\n",
    "\n",
    "# This returns a tensor to represent the input\n",
    "inputs = Input(shape=(28,28,1))\n",
    "x = Conv2D(32, 5, activation='relu')(inputs)\n",
    "x = GaussianDropout(0.4)(x)\n",
    "x = Conv2D(20, 4, activation='relu')(x)\n",
    "x = MaxPool2D(2, strides=2)(x)\n",
    "x = Conv2D(20, 3, activation='relu')(x)\n",
    "x = Dropout(0.2)(x)\n",
    "x =AveragePooling2D(2, strides=2)(x)\n",
    "x = Flatten()(inputs)\n",
    "x = BatchNormalization()(x)\n",
    "x = Dense(100, activation='relu')(x)\n",
    "x = BatchNormalization() (x)\n",
    "x = Dense(10, activation='softmax')(x)\n",
    "\n",
    "# This creates a model that includes\n",
    "# the Input layer and three Dense layers\n",
    "model = Model(inputs=inputs, outputs=x)\n",
    "model.compile(optimizer='sgd',\n",
    "              loss='categorical_crossentropy',\n",
    "              metrics=['accuracy'],\n",
    "              )\n",
    "# to fit the model uncomment this line, experiment with the various settings\n",
    "model.fit(X_train, y_train,\n",
    "                  epochs=30,\n",
    "                  verbose=False,\n",
    "                  validation_data=(X_val, y_val))\n"
   ]
  },
  {
   "cell_type": "code",
   "execution_count": 412,
   "metadata": {},
   "outputs": [
    {
     "name": "stdout",
     "output_type": "stream",
     "text": [
      "10000/10000 [==============================] - 0s 48us/step\n"
     ]
    },
    {
     "data": {
      "text/plain": [
       "[0.3597516637802124, 0.8773]"
      ]
     },
     "execution_count": 412,
     "metadata": {},
     "output_type": "execute_result"
    }
   ],
   "source": [
    "#evaluate the trained model\n",
    "#without the convolutions I reached [0.46377, 0.844]\n",
    "#the first one is the crossentropy and the second one the accuracy??\n",
    "model.evaluate(X_test,y_test)"
   ]
  },
  {
   "cell_type": "code",
   "execution_count": 413,
   "metadata": {},
   "outputs": [
    {
     "data": {
      "text/plain": [
       "0.9898461777777777"
      ]
     },
     "execution_count": 413,
     "metadata": {},
     "output_type": "execute_result"
    }
   ],
   "source": [
    "#now with the roc_auc score (without convoutions etc I reached 0.981788\n",
    "from sklearn.metrics import roc_auc_score, make_scorer\n",
    "\n",
    "roc_auc_scorer = make_scorer(roc_auc_score)\n",
    "\n",
    "roc_auc_scorer(model,X_test,y_test)"
   ]
  },
  {
   "cell_type": "markdown",
   "metadata": {},
   "source": [
    "## Question 2\n",
    "\n",
    "For most real world applications we do not have enough labelled images to train a large neural network from scratch. Instead we can use a pre-trained network as a feature transformer and train a smaller model (or even just a logistic regression) on the output of the pre-trained network.\n",
    "\n",
    "There are several pretrained networks available as part of keras: https://keras.io/applications/. The documentation usually gives some information or links about each network.\n",
    "\n",
    "The documentation also contains snippets on how to use a pre-trained network as feature transformer (\"Extract features with VGG16\"). You should be able to generalise from that example using VGG16 to approximately any of the networks available there.\n",
    "\n",
    "One important thing to not forget is that you need to preprocess your images before feeding them into a pretrained network. Keras provides the functions to do that as well, use them :) You might also need to resize your images first.\n",
    "\n",
    "The task for this question is to build a classifier that can tell road bikes from mountain bikes. Start with using a pre-trained network as feature transformer and logistic regression as classifier on the output of the pretrained network. Once this works you can experiment with extracting features from earlier layers of the pre-trained network, compare your performance to a small network trained from scratch, try to beat your neural net by extracting features by hand and feeding them to a random forest, increasing your dataset size by [augmenting the data](https://keras.io/preprocessing/image/), etc.\n",
    "\n",
    "The dataset containing about 100 labelled images for each road and mountain bikes is here: https://github.com/wildtreetech/advanced-computing-2018/blob/master/data/road-and-mountain-bikes.zip"
   ]
  },
  {
   "cell_type": "code",
   "execution_count": 543,
   "metadata": {},
   "outputs": [
    {
     "name": "stdout",
     "output_type": "stream",
     "text": [
      "('Predicted:', [(u'n02504458', u'African_elephant', 0.9038756), (u'n01871265', u'tusker', 0.09260196), (u'n02504013', u'Indian_elephant', 0.0034651882)])\n"
     ]
    }
   ],
   "source": [
    "##first example with full classification\n",
    "from keras import applications\n",
    "from keras.preprocessing import image\n",
    "from keras.applications.vgg16 import preprocess_input, decode_predictions\n",
    "import numpy as np\n",
    "import h5py\n",
    "\n",
    "\n",
    "# for example load the VGG16 network\n",
    "model = applications.VGG16(weights='imagenet')\n",
    "\n",
    "img_path = 'elephant.jpg'\n",
    "img = image.load_img(img_path, target_size=(224, 224))\n",
    "x = image.img_to_array(img)\n",
    "x = np.expand_dims(x, axis=0)\n",
    "x = preprocess_input(x)\n",
    "\n",
    "preds = model.predict(x)\n",
    "\n",
    "print('Predicted:', decode_predictions(preds, top=3)[0])"
   ]
  },
  {
   "cell_type": "code",
   "execution_count": 544,
   "metadata": {
    "scrolled": true
   },
   "outputs": [
    {
     "name": "stdout",
     "output_type": "stream",
     "text": [
      "33208\n",
      "32664\n"
     ]
    }
   ],
   "source": [
    "#import X and y\n",
    "!ls -l bikes/mountain_bikes/ > mtb_path.txt\n",
    "##or nicer! use  os.listdir($dir) function to get mtb_path's!\n",
    "with open('mtb_path.txt','r') as fin:\n",
    "    mtb_path = fin.readlines()\n",
    "!ls -l bikes/road_bikes/ > rb_path.txt\n",
    "with open('rb_path.txt','r') as fin:\n",
    "    rb_path = fin.readlines()\n",
    "\n",
    "X=[]\n",
    "y=[]\n",
    "for line in mtb_path:\n",
    "    try:\n",
    "        img_path= 'bikes/mountain_bikes/'+line.split()[-1]\n",
    "        img = image.load_img(img_path, target_size=(224, 224))\n",
    "        x = image.img_to_array(img)\n",
    "        x = np.expand_dims(x, axis=0)\n",
    "        x = preprocess_input(x)\n",
    "        X.append(x)\n",
    "        y.append(1) \n",
    "    except:\n",
    "        print line.split()[-1]\n",
    "        \n",
    "for line in rb_path:\n",
    "    try:\n",
    "        img_path= 'bikes/road_bikes/'+line.split()[-1]\n",
    "        img = image.load_img(img_path, target_size=(224, 224))\n",
    "        x = image.img_to_array(img)\n",
    "        x = np.expand_dims(x, axis=0)\n",
    "        x = preprocess_input(x)\n",
    "        X.append(x)\n",
    "        y.append(0)\n",
    "    except:\n",
    "        print line.split()[-1]"
   ]
  },
  {
   "cell_type": "code",
   "execution_count": 545,
   "metadata": {
    "collapsed": true
   },
   "outputs": [],
   "source": [
    "y=np.array(y)\n",
    "X=np.array(X).reshape(len(X),224,224,3)\n",
    "permutation = np.random.permutation(y.shape[0])\n",
    "X=X[permutation,:,:,:]\n",
    "y=y[permutation]"
   ]
  },
  {
   "cell_type": "code",
   "execution_count": 546,
   "metadata": {},
   "outputs": [
    {
     "name": "stdout",
     "output_type": "stream",
     "text": [
      "[0 0 0 1 1 0 0 1 0 0 1 0 1 1 1 0 1 1 0 0 0 1 0 0 1 0 0 0 1 0 1 0 0 1 1 1 0\n",
      " 1 1 0 1 1 1 1 1 0 0 0 1 1 1 1 1 0 0 1 0 0 1 0 0 0 0 1 0 0 0 0 1 1 1 0 1 0\n",
      " 1 0 0 0 1 1 1 0 1 0 0 1 1 1 1 0 0 0 1 1 1 1 1 1 0 0 1 1 0 0 1 0 1 1 1 1 1\n",
      " 0 1 0 0 1 1 1 0 0 1 0 1 0 0 0 1 0 1 1 0 0 1 1 1 1 0 1 1 0 0 0 0 1 0 0 1 0\n",
      " 1 0 1 0 0 1 0 0 1 0 1 0 1 1 0 1 1 0 1 1 1 0 1 1 0 0 1 0 0 0 1 1 1 1 0 1 1\n",
      " 1 0 1 0 0 1 0 0 0 1 0 0 0 0 0 1 1 1 0 1 1 0 0 0 0 0]\n"
     ]
    },
    {
     "data": {
      "image/png": "[encoded data removed]",
      "text/plain": [
       "<matplotlib.figure.Figure at 0x270637d90>"
      ]
     },
     "metadata": {},
     "output_type": "display_data"
    }
   ],
   "source": [
    "plt.imshow(X[3,:,:,1])\n",
    "print y"
   ]
  },
  {
   "cell_type": "code",
   "execution_count": 547,
   "metadata": {},
   "outputs": [],
   "source": [
    "'''\n",
    "augment data\n",
    "if we don't do so, then even only a LogisticRegression can learn at 100%\n",
    "I supect thats because all mtb's have a skew middle-bar and all rb's have a straight one\n",
    "so a dark pixel ar around [120,60] can tell the difference!\n",
    "'''\n",
    "from keras.preprocessing.image import ImageDataGenerator\n",
    "datagen = ImageDataGenerator(\n",
    "    featurewise_center=True,\n",
    "    featurewise_std_normalization=True,\n",
    "    rotation_range=180,\n",
    "    width_shift_range=0.2,\n",
    "    height_shift_range=0.2,\n",
    "    horizontal_flip=True,\n",
    "    vertical_flip=True,\n",
    "    shear_range=0.1,\n",
    "    zoom_range=0.1)\n",
    "\n",
    "X_=[]\n",
    "y_=[]\n",
    "batches=0\n",
    "for x_batch, y_batch in datagen.flow(X, y, batch_size=200):\n",
    "    X_.append(x_batch)\n",
    "    y_.append(y_batch)\n",
    "    batches +=1\n",
    "    if batches >=1:\n",
    "        break"
   ]
  },
  {
   "cell_type": "code",
   "execution_count": 548,
   "metadata": {},
   "outputs": [
    {
     "data": {
      "text/plain": [
       "(1, 200, 224, 224, 3)"
      ]
     },
     "execution_count": 548,
     "metadata": {},
     "output_type": "execute_result"
    }
   ],
   "source": [
    "np.array(X_).shape"
   ]
  },
  {
   "cell_type": "code",
   "execution_count": 549,
   "metadata": {},
   "outputs": [
    {
     "name": "stdout",
     "output_type": "stream",
     "text": [
      "(1, 200, 224, 224, 3) [1 0 0 1 1 0 0 0 1 1 1 1 1 1 0 1 0 1 0 1 0 0 0 1 0 0 1 1 1 0 1 1 1 1 0 1 1\n",
      " 1 1 1 1 1 0 0 0 1 0 0 0 1 0 0 0 0 1 1 1 0 0 0 0 1 1 0 1 1 0 0 0 1 0 1 1 0\n",
      " 1 0 1 0 1 0 0 1 1 1 1 1 0 1 1 1 0 1 1 0 0 1 0 0 0 1 0 1 0 0 1 0 0 0 0 0 0\n",
      " 1 0 1 1 1 0 0 0 1 0 1 1 0 0 0 0 0 0 0 0 1 1 0 0 1 1 0 1 0 1 0 1 0 0 0 1 1\n",
      " 0 1 1 1 0 1 1 1 1 0 1 0 0 1 1 1 1 1 1 0 1 0 1 0 0 1 0 0 0 0 0 0 0 1 0 1 1\n",
      " 0 0 1 1 0 1 1 0 1 1 1 1 1 0 1]\n"
     ]
    },
    {
     "data": {
      "text/plain": [
       "<matplotlib.image.AxesImage at 0x26ff292d0>"
      ]
     },
     "execution_count": 549,
     "metadata": {},
     "output_type": "execute_result"
    },
    {
     "data": {
      "image/png": "[encoded data removed]",
      "text/plain": [
       "<matplotlib.figure.Figure at 0x27069d190>"
      ]
     },
     "metadata": {},
     "output_type": "display_data"
    }
   ],
   "source": [
    "y_=np.array(y_).reshape(np.array(y_).shape[1])\n",
    "print np.array(X_).shape, y_\n",
    "X_=np.array(X_).reshape(200,1,224,224,3)\n",
    "plt.imshow(X_[1,0,:,:,1])"
   ]
  },
  {
   "cell_type": "code",
   "execution_count": 550,
   "metadata": {},
   "outputs": [],
   "source": [
    "from sklearn.model_selection import train_test_split\n",
    "\n",
    "X_train, X_test, y_train, y_test = train_test_split(X_, y_,\n",
    "                                                  test_size=0.7,\n",
    "                                                  random_state=30)"
   ]
  },
  {
   "cell_type": "code",
   "execution_count": 422,
   "metadata": {},
   "outputs": [],
   "source": [
    "#now lets use VGG16 as feature transformer\n",
    "model = applications.VGG16(include_top=False,weights='imagenet')\n",
    "\n",
    "X_train_ = []\n",
    "for xx in X_train:\n",
    "    X_train_.append( model.predict(xx) )\n",
    "    \n",
    "X_test_ = []\n",
    "for xx in X_test:\n",
    "    X_test_.append( model.predict(xx) )"
   ]
  },
  {
   "cell_type": "code",
   "execution_count": 423,
   "metadata": {},
   "outputs": [],
   "source": [
    "X_train__=np.array(X_train_).reshape(len(X_train_),1*7*7*512)\n",
    "X_test__=np.array(X_test_).reshape(len(X_test_),1*7*7*512)"
   ]
  },
  {
   "cell_type": "code",
   "execution_count": 426,
   "metadata": {
    "scrolled": false
   },
   "outputs": [
    {
     "name": "stdout",
     "output_type": "stream",
     "text": [
      "LogisticRegression stats\n",
      "training score:  1.0\n",
      "test score:  0.8\n",
      "training score:  1.0\n",
      "test score:  0.7428571428571429\n"
     ]
    }
   ],
   "source": [
    "#train a logistic regression to get from X_ to y\n",
    "#LogisticRegression\n",
    "from sklearn.linear_model import LogisticRegression\n",
    "\n",
    "lr = LogisticRegression().fit(X_train__,y_train)\n",
    "print 'LogisticRegression stats'\n",
    "print 'training score: ', lr.score(X_train__,y_train)\n",
    "print 'test score: ',lr.score(X_test__,y_test)\n",
    "\n",
    "'''\n",
    "ven for a relative small training set, there seems to be a very good prediction accuracy!!\n",
    "Here I just want to check if for wrong classifications (noise) this still hold...\n",
    "Because it should not!\n",
    "'''\n",
    "\n",
    "from copy import copy\n",
    "\n",
    "y_test_ = copy(y_test)\n",
    "y_train_ = copy(y_train)\n",
    "for kk in range(10,20):\n",
    "    y_test_[kk]=1\n",
    "for kk in range(5,10):\n",
    "    y_train_[kk]=0\n",
    "\n",
    "opt_grid_lr={'C': 7.597228299383383, 'intercept_scaling': 5.871897698217846, 'tol': 0.00858432848699963, 'solver': 'newton-cg'}\n",
    "lr = LogisticRegression(**opt_grid_lr).fit(X_train__,y_train_)\n",
    "'''\n",
    "still \"perfect\" training seems possible, but the testing is significantly affected\n",
    "'''\n",
    "print 'training score: ', lr.score(X_train__,y_train_)\n",
    "print 'test score: ',lr.score(X_test__,y_test_)\n"
   ]
  },
  {
   "cell_type": "markdown",
   "metadata": {},
   "source": [
    "### try with earlier feature extraction"
   ]
  },
  {
   "cell_type": "code",
   "execution_count": 427,
   "metadata": {
    "collapsed": true
   },
   "outputs": [],
   "source": [
    "#after 4th max-pooling\n",
    "from keras.models import Model\n",
    "\n",
    "base_model = applications.VGG16(weights='imagenet')\n",
    "model = Model(inputs=base_model.input, outputs=base_model.get_layer('block4_pool').output)\n",
    "\n",
    "X_train_ = []\n",
    "for xx in X_train:\n",
    "    X_train_.append( model.predict(xx) )\n",
    "    \n",
    "X_test_ = []\n",
    "for xx in X_test:\n",
    "    X_test_.append( model.predict(xx) )"
   ]
  },
  {
   "cell_type": "code",
   "execution_count": 428,
   "metadata": {},
   "outputs": [
    {
     "data": {
      "text/plain": [
       "(60, 1, 14, 14, 512)"
      ]
     },
     "execution_count": 428,
     "metadata": {},
     "output_type": "execute_result"
    }
   ],
   "source": [
    "np.array(X_train_).shape"
   ]
  },
  {
   "cell_type": "code",
   "execution_count": 429,
   "metadata": {},
   "outputs": [],
   "source": [
    "X_train__=np.array(X_train_).reshape(len(X_train_),1*14*14*512)\n",
    "X_test__=np.array(X_test_).reshape(len(X_test_),1*14*14*512)"
   ]
  },
  {
   "cell_type": "code",
   "execution_count": 430,
   "metadata": {},
   "outputs": [
    {
     "name": "stdout",
     "output_type": "stream",
     "text": [
      "LogisticRegression stats\n",
      "training score:  1.0\n",
      "test score:  0.6285714285714286\n"
     ]
    }
   ],
   "source": [
    "lr = LogisticRegression(**opt_grid_lr).fit(X_train__,y_train)\n",
    "print 'LogisticRegression stats'\n",
    "print 'training score: ', lr.score(X_train__,y_train)\n",
    "print 'test score: ',lr.score(X_test__,y_test)"
   ]
  },
  {
   "cell_type": "code",
   "execution_count": 431,
   "metadata": {},
   "outputs": [],
   "source": [
    "#after first convolution\n",
    "from keras.models import Model\n",
    "\n",
    "base_model = applications.VGG16(weights='imagenet')\n",
    "model = Model(inputs=base_model.input, outputs=base_model.get_layer('block1_conv1').output)\n",
    "\n",
    "X_train_ = []\n",
    "for xx in X_train:\n",
    "    X_train_.append( model.predict(xx) )\n",
    "    \n",
    "X_test_ = []\n",
    "for xx in X_test:\n",
    "    X_test_.append( model.predict(xx) )"
   ]
  },
  {
   "cell_type": "code",
   "execution_count": 432,
   "metadata": {},
   "outputs": [
    {
     "data": {
      "text/plain": [
       "(60, 1, 224, 224, 64)"
      ]
     },
     "execution_count": 432,
     "metadata": {},
     "output_type": "execute_result"
    }
   ],
   "source": [
    "np.array(X_train_).shape"
   ]
  },
  {
   "cell_type": "code",
   "execution_count": 433,
   "metadata": {},
   "outputs": [],
   "source": [
    "X_train__=np.array(X_train_).reshape(len(X_train_),1*224*224*64)\n",
    "X_test__=np.array(X_test_).reshape(len(X_test_),1*224*224*64)"
   ]
  },
  {
   "cell_type": "code",
   "execution_count": 434,
   "metadata": {},
   "outputs": [
    {
     "name": "stdout",
     "output_type": "stream",
     "text": [
      "LogisticRegression stats\n",
      "training score:  1.0\n",
      "test score:  0.5214285714285715\n"
     ]
    }
   ],
   "source": [
    "lr = LogisticRegression(**opt_grid_lr).fit(X_train__,y_train)\n",
    "print 'LogisticRegression stats'\n",
    "print 'training score: ', lr.score(X_train__,y_train)\n",
    "print 'test score: ',lr.score(X_test__,y_test)\n"
   ]
  },
  {
   "cell_type": "code",
   "execution_count": 435,
   "metadata": {},
   "outputs": [],
   "source": [
    "#using a LogisticRegression directly\n",
    "X_train__=np.array(X_train).reshape(len(X_train),1*224*224*3)\n",
    "X_test__=np.array(X_test).reshape(len(X_test),1*224*224*3)"
   ]
  },
  {
   "cell_type": "code",
   "execution_count": 436,
   "metadata": {},
   "outputs": [
    {
     "name": "stdout",
     "output_type": "stream",
     "text": [
      "LogisticRegression stats\n",
      "training score:  1.0\n",
      "test score:  0.55\n"
     ]
    }
   ],
   "source": [
    "lr = LogisticRegression(**opt_grid_lr).fit(X_train__,y_train)\n",
    "print 'LogisticRegression stats'\n",
    "print 'training score: ', lr.score(X_train__,y_train)\n",
    "print 'test score: ',lr.score(X_test__,y_test)"
   ]
  },
  {
   "cell_type": "markdown",
   "metadata": {},
   "source": [
    "### try with custom NN "
   ]
  },
  {
   "cell_type": "code",
   "execution_count": 521,
   "metadata": {},
   "outputs": [],
   "source": [
    "'''augment data\n",
    "Also I will generate lots and lots of extra training data,\n",
    "because for the small data-set my custom NN only reaches about 0.5 auc_roc_score\n",
    "but with more data it should be much higher!\n",
    "'''\n",
    "\n",
    "X_train, X_test, y_train, y_test = train_test_split(X_, y_,\n",
    "                                                  test_size=0.3,\n",
    "                                                  random_state=30)\n",
    "\n",
    "from keras.preprocessing.image import ImageDataGenerator\n",
    "datagen = ImageDataGenerator(\n",
    "    featurewise_center=True,\n",
    "    featurewise_std_normalization=True,\n",
    "    rotation_range=180,\n",
    "    width_shift_range=0.2,\n",
    "    height_shift_range=0.2,\n",
    "    horizontal_flip=True,\n",
    "    vertical_flip=True,\n",
    "    shear_range=0.1,\n",
    "    zoom_range=0.1)\n",
    "X_train=X_train.reshape(X_train.shape[0],224,224,3)\n",
    "X_train_=np.array(X_train)\n",
    "y_train_=np.array(y_train)\n",
    "batches=0\n",
    "for x_batch, y_batch in datagen.flow(X_train, y_train, batch_size=200):\n",
    "    X_train_=np.concatenate((X_train_,x_batch))\n",
    "    y_train_=np.concatenate((y_train_,y_batch))\n",
    "    batches +=1\n",
    "    if batches >=30:\n",
    "        break"
   ]
  },
  {
   "cell_type": "code",
   "execution_count": 522,
   "metadata": {},
   "outputs": [
    {
     "data": {
      "text/plain": [
       "(4340, 224, 224, 3)"
      ]
     },
     "execution_count": 522,
     "metadata": {},
     "output_type": "execute_result"
    }
   ],
   "source": [
    "X_train_.shape"
   ]
  },
  {
   "cell_type": "code",
   "execution_count": 523,
   "metadata": {
    "scrolled": false
   },
   "outputs": [
    {
     "name": "stdout",
     "output_type": "stream",
     "text": [
      "(1302, 224, 224, 3) (1302, 2)\n"
     ]
    },
    {
     "data": {
      "text/plain": [
       "<keras.callbacks.History at 0x1f26376d0>"
      ]
     },
     "execution_count": 523,
     "metadata": {},
     "output_type": "execute_result"
    }
   ],
   "source": [
    "from keras.layers import BatchNormalization,GaussianDropout,Dropout, Input, Dense, Activation, Conv2D, MaxPool2D, AveragePooling2D, Flatten\n",
    "from keras.models import Model\n",
    "\n",
    "\n",
    "X__ = X_train_.reshape(X_train_.shape[0],224,224,3)\n",
    "X_test__ = X_test.reshape(X_test.shape[0],224,224,3)\n",
    "\n",
    "#one hot encoding for y\n",
    "from keras import utils\n",
    "num_classes = 2\n",
    "\n",
    "y__ = utils.to_categorical(y_train_, num_classes)\n",
    "y_test__ = utils.to_categorical(y_test, num_classes)\n",
    "\n",
    "\n",
    "X_train__, X_val__, y_train__, y_val__ = train_test_split(X__, y__,\n",
    "                                                  test_size=0.3,\n",
    "                                                  random_state=30)\n",
    "print X_val__.shape, y_val__.shape\n",
    "# This returns a tensor to represent the input\n",
    "inputs = Input(shape=(224,224,3))\n",
    "x = Conv2D(50, 4, activation='relu')(inputs)\n",
    "x = Dropout(0.2)(x)\n",
    "x = Conv2D(50, 4, activation='relu')(x)\n",
    "x = MaxPool2D(2, strides=2)(x)\n",
    "x = Conv2D(50, 3, activation='relu')(x)\n",
    "x = Conv2D(50, 3, activation='relu')(x)\n",
    "x = Dropout(0.2)(x)\n",
    "x =AveragePooling2D(2, strides=2)(x)\n",
    "x = Flatten()(inputs)\n",
    "x = BatchNormalization()(x)\n",
    "x = Dense(100, activation='relu')(x)\n",
    "x = BatchNormalization() (x)\n",
    "x = Dense(50, activation='relu')(x)\n",
    "x = BatchNormalization() (x)\n",
    "x = Dense(2, activation='softmax')(x)\n",
    "\n",
    "# This creates a model that includes\n",
    "# the Input layer and three Dense layers\n",
    "model = Model(inputs=inputs, outputs=x)\n",
    "model.compile(optimizer='sgd',\n",
    "              loss='categorical_crossentropy',\n",
    "              metrics=['accuracy'],\n",
    "              )\n",
    "\n",
    "# to fit the model uncomment this line, experiment with the various settings\n",
    "model.fit(X_train__, y_train__,\n",
    "                  epochs=30,\n",
    "                  verbose=False,\n",
    "                  validation_data=(X_val__, y_val__))\n",
    "\n"
   ]
  },
  {
   "cell_type": "code",
   "execution_count": 524,
   "metadata": {},
   "outputs": [
    {
     "name": "stdout",
     "output_type": "stream",
     "text": [
      "60/60 [==============================] - 0s 4ms/step\n"
     ]
    },
    {
     "data": {
      "text/plain": [
       "[0.990450938542684, 0.7333333412806193]"
      ]
     },
     "execution_count": 524,
     "metadata": {},
     "output_type": "execute_result"
    }
   ],
   "source": [
    "#evaluate the trained model\n",
    "model.evaluate(X_test__,y_test__)"
   ]
  },
  {
   "cell_type": "code",
   "execution_count": 525,
   "metadata": {},
   "outputs": [
    {
     "data": {
      "text/plain": [
       "0.7384960718294051"
      ]
     },
     "execution_count": 525,
     "metadata": {},
     "output_type": "execute_result"
    }
   ],
   "source": [
    "#now with the roc_auc score\n",
    "from sklearn.metrics import roc_auc_score, make_scorer\n",
    "\n",
    "roc_auc_scorer = make_scorer(roc_auc_score)\n",
    "\n",
    "roc_auc_scorer(model,X_test__,y_test__)"
   ]
  },
  {
   "cell_type": "markdown",
   "metadata": {},
   "source": [
    "### try with manual features and RandomForest"
   ]
  },
  {
   "cell_type": "code",
   "execution_count": 565,
   "metadata": {},
   "outputs": [
    {
     "data": {
      "text/plain": [
       "(200, 1, 224, 224, 3)"
      ]
     },
     "execution_count": 565,
     "metadata": {},
     "output_type": "execute_result"
    }
   ],
   "source": [
    "np.array(X_).shape"
   ]
  },
  {
   "cell_type": "code",
   "execution_count": 599,
   "metadata": {},
   "outputs": [],
   "source": [
    "'''augment data\n",
    "Also I will generate lots and lots of extra training data,\n",
    "because for the small data-set my custom NN only reaches about 0.5 auc_roc_score\n",
    "but with more data it should be much higher!\n",
    "'''\n",
    "\n",
    "X_train, X_test, y_train, y_test = train_test_split(X_, y_,\n",
    "                                                  test_size=0.3,\n",
    "                                                  random_state=30)\n",
    "X_train = np.array(X_train)\n",
    "X_test = np.array(X_test)\n",
    "y_train_ = np.array(y_train)\n",
    "y_test_ = np.array(y_test)\n",
    "\n",
    "X_train_=X_train.reshape(X_train.shape[0],224,224,3)\n",
    "X_test_=X_test.reshape(X_test.shape[0],224,224,3)\n",
    "\n",
    "\n",
    "from keras.preprocessing.image import ImageDataGenerator\n",
    "datagen = ImageDataGenerator(\n",
    "    featurewise_center=True,\n",
    "    featurewise_std_normalization=True,\n",
    "    rotation_range=180,\n",
    "    width_shift_range=0.2,\n",
    "    height_shift_range=0.2,\n",
    "    horizontal_flip=True,\n",
    "    vertical_flip=True,\n",
    "    shear_range=0.1,\n",
    "    zoom_range=0.1)\n",
    "X_train=X_train.reshape(X_train.shape[0],224,224,3)\n",
    "X_train_=np.array(X_train)\n",
    "y_train_=np.array(y_train)\n",
    "\n",
    "batches=0\n",
    "for x_batch, y_batch in datagen.flow(X_train, y_train, batch_size=200):\n",
    "    X_train_=np.concatenate((X_train_,x_batch))\n",
    "    y_train_=np.concatenate((y_train_,y_batch))\n",
    "    batches +=1\n",
    "    if batches >=3:\n",
    "        break"
   ]
  },
  {
   "cell_type": "code",
   "execution_count": 600,
   "metadata": {},
   "outputs": [
    {
     "name": "stdout",
     "output_type": "stream",
     "text": [
      "(560, 224, 224, 3) (560,) (60, 224, 224, 3) (60,)\n"
     ]
    }
   ],
   "source": [
    "print X_train_.shape,y_train_.shape, X_test_.shape, y_test_.shape"
   ]
  },
  {
   "cell_type": "code",
   "execution_count": 601,
   "metadata": {},
   "outputs": [],
   "source": [
    "\"\"\"\n",
    "Use extended X_train__, X_test__, X_val__, y_train__, y_test__ and y_val__ from custom NN\n",
    "for the non-augmented data-set even the LogisticRegressor was very good at distinguishing mtb's from rb'b\n",
    "I think thats because all the mtb's have a skew bar between the wheels while all the rb's have a straight one\n",
    "so for the non-augmented images, we just have to learn if at the position of the straight bar\n",
    "there is a dark pixel.\n",
    "I will try to use this by using a convolution with horizontal and vertical bars as feature extractors.\n",
    "\"\"\"\n",
    "horizontal_edge = [[0, 1., 0],\n",
    "                   [0, -1., 0],\n",
    "                   [0, 0, 0]]\n",
    "vertical_edge = [[0, 0, 0],\n",
    "                 [1, -1., 0],\n",
    "                 [0, 0, 0]]\n",
    "horizontal_sobel_edge = [[1., 0., -1.],\n",
    "                   [2., 0., -2.],\n",
    "                   [1., 0, -1.]]\n",
    "vertical_sobel_edge = [[1., 2., 1.],\n",
    "                 [0, 0., 0],\n",
    "                 [-1., -2., -1.]]\n",
    "derivative_edge = [[0.25, 0.,-0.25],\n",
    "                   [0,0,0],\n",
    "                   [-0.25, 0.,0.25]]\n",
    "corner1 = [[1, -1., -1],\n",
    "            [1, -1., -1.0],\n",
    "            [1, 1, 1.0]]\n",
    "corner2 = [[-1, -1., 1.],\n",
    "            [-1, -1., 1.],\n",
    "            [1, 1., 1.]]\n",
    "corner3 = [[1, 1., 1],\n",
    "            [-1, -1., 1.0],\n",
    "            [-1, -1, 1.0]]\n",
    "corner4 = [[1, 1., 1.],\n",
    "            [1, -1., -1.],\n",
    "            [1, -1., -1.]]\n",
    "\n",
    "inputs = Input(shape=(224,224,3))\n",
    "x = Conv2D(9, (3,3))(inputs)\n",
    "h = Flatten()(x)\n",
    "conv = Model(inputs=inputs, outputs=h)\n",
    "\n",
    "def set_filter(kernel1, kernel2, kernel3,kernel4, kernel5, kernel6,kernel7, kernel8, kernel9):\n",
    "    kernels, b = conv.get_weights()\n",
    "    kernels[:,:,0,0] = kernel1\n",
    "    kernels[:,:,0,1] = kernel2\n",
    "    kernels[:,:,0,2] = kernel3\n",
    "    kernels[:,:,0,3] = kernel4\n",
    "    kernels[:,:,0,4] = kernel5\n",
    "    kernels[:,:,0,5] = kernel6\n",
    "    kernels[:,:,0,6] = kernel7\n",
    "    kernels[:,:,0,7] = kernel8\n",
    "    kernels[:,:,0,8] = kernel9\n",
    "    conv.set_weights([kernels, b])\n",
    "\n",
    "set_filter(horizontal_edge, vertical_edge, horizontal_sobel_edge, vertical_sobel_edge,\n",
    "          derivative_edge, corner1, corner2, corner3, corner4)\n",
    "\n",
    "# use the filters to generate input features\n",
    "X_train_conv = conv.predict(X_train_)\n",
    "X_test_conv = conv.predict(X_test_)\n"
   ]
  },
  {
   "cell_type": "code",
   "execution_count": null,
   "metadata": {},
   "outputs": [
    {
     "data": {
      "text/plain": [
       "(560, 443556)"
      ]
     },
     "execution_count": 602,
     "metadata": {},
     "output_type": "execute_result"
    }
   ],
   "source": [
    "X_train_conv.shape"
   ]
  },
  {
   "cell_type": "code",
   "execution_count": null,
   "metadata": {},
   "outputs": [],
   "source": [
    "#now use these features as Input for a RandomForest\n",
    "from sklearn.ensemble import RandomForestClassifier\n",
    "opt_grid_rfc={'max_features': 0.5, 'n_estimators': 30, 'max_depth': 15}\n",
    "\n",
    "rfc = RandomForestClassifier(**opt_grid_rfc).fit(X_train_conv,y_train_)\n",
    "print 'RandomForrestClassifier stats'\n",
    "print 'training score: ', rfc.score(X_train_conv,y_train_)\n",
    "print 'test score: ',rfc.score(X_test_conv,y_test_)"
   ]
  },
  {
   "cell_type": "markdown",
   "metadata": {},
   "source": [
    "## Question 3\n",
    "\n",
    "Think about what project you want to do. What makes a good project? It should use some of what you learnt in this class, there should be labelled data available already, and it should be something you are interested in.\n",
    "\n",
    "You will have to write a short report on what you did. To write an interesting report you need to tell a story, not just first I did A, then I did B, then I did X and finally D.\n",
    "\n",
    "It also has to go a bit beyond simply training a classifier or regression model.\n",
    "\n",
    "An example based on the bike images from the previous question:\n",
    "\n",
    "A local bike shop wants to keep an eye on sales of bikes on ebay. They specialise in road bikes so they want to be able to filter out all adverts for mountain bikes. They have found that people writing ebay adverts are not very good at correctly labelling their adverts. Can they use machine-learning to help classify adverts?\n",
    "\n",
    "We investigate labelling adverts based on the image in the advert and study different trade offs in misclassifying bikes. The network was trained on 100 images from a catalog which show bikes on a white background. We compare the performance of the network on the training data and a small set of hand labelled images of bikes in the wild."
   ]
  },
  {
   "cell_type": "code",
   "execution_count": null,
   "metadata": {
    "collapsed": true
   },
   "outputs": [],
   "source": []
  },
  {
   "cell_type": "code",
   "execution_count": null,
   "metadata": {
    "collapsed": true
   },
   "outputs": [],
   "source": []
  },
  {
   "cell_type": "code",
   "execution_count": null,
   "metadata": {
    "collapsed": true
   },
   "outputs": [],
   "source": []
  }
 ],
 "metadata": {
  "kernelspec": {
   "display_name": "Python 2",
   "language": "python",
   "name": "python2"
  },
  "language_info": {
   "codemirror_mode": {
    "name": "ipython",
    "version": 2
   },
   "file_extension": ".py",
   "mimetype": "text/x-python",
   "name": "python",
   "nbconvert_exporter": "python",
   "pygments_lexer": "ipython2",
   "version": "2.7.13"
  }
 },
 "nbformat": 4,
 "nbformat_minor": 2
}
